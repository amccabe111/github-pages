<!DOCTYPE html>
<html lang="en">
<head>
    <meta charset="UTF-8">
    <meta name="viewport" content="width=device-width, initial-scale=1.0">
    <title>Interactive Graph with Sliders</title>
    <script src="https://cdn.plot.ly/plotly-latest.min.js"></script>
</head>
<body>
    <div id="plot"></div>
    <script>
        // Example dataset: y = a * sin(b * x) + c
        let a = 1, b = 1, c = 0;

        // Function to generate data
        function generateData(a, b, c) {
            let x = [], y = [];
            for (let i = 0; i <= 100; i++) {
                let xi = i * 0.1;
                x.push(xi);
                y.push(a * Math.sin(b * xi) + c);
            }
            return {x: x, y: y};
        }

        // Initial plot data
        let data = generateData(a, b, c);
        let trace = {
            x: data.x,
            y: data.y,
            mode: 'lines',
            name: `a=${a}, b=${b}, c=${c}`
        };

        // Layout configuration
        let layout = {
            title: 'Interactive Graph with Sliders',
            xaxis: {title: 'X-axis'},
            yaxis: {title: 'Y-axis'},
            sliders: [
                {
                    active: 0,
                    steps: [
                        {label: "a=1", method: "skip"},
                        {label: "b=1", method: "skip"},
                        {label: "c=0", method: "skip"}
                    ]
                }
            ]
        };

        // Create the initial plot
        Plotly.newPlot('plot', [trace], layout);

        // Function to update the graph with new slider values
        function updateGraph() {
            data = generateData(a, b, c);
            Plotly.restyle('plot', {
                x: [data.x],
                y: [data.y],
                name: [`a=${a}, b=${b}, c=${c}`]
            });
        }

        // Add sliders dynamically
        const body = document.querySelector('body');
        body.innerHTML += `
            <div style="padding: 10px;">
                <label>a: <input type="range" min="0" max="3" step="0.1" value="1" id="sliderA"></label><br>
                <label>b: <input type="range" min="0" max="5" step="0.1" value="1" id="sliderB"></label><br>
                <label>c: <input type="range" min="-3" max="3" step="0.1" value="0" id="sliderC"></label>
            </div>
        `;

        // Event Listeners for Sliders
        document.getElementById('sliderA').addEventListener('input', (e) => {
            a = parseFloat(e.target.value);
            updateGraph();
        });
        document.getElementById('sliderB').addEventListener('input', (e) => {
            b =
 parseFloat(e.target.value);
            updateGraph();
        });
        document.getElementById('sliderC').addEventListener('input', (e) => {
            c = parseFloat(e.target.value);
            updateGraph();
        });
    </script>
</body>
</html>
